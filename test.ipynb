{
 "cells": [
  {
   "cell_type": "code",
   "execution_count": 1,
   "metadata": {},
   "outputs": [],
   "source": [
    "test = set()"
   ]
  },
  {
   "cell_type": "code",
   "execution_count": 2,
   "metadata": {},
   "outputs": [],
   "source": [
    "import random"
   ]
  },
  {
   "cell_type": "code",
   "execution_count": 14,
   "metadata": {},
   "outputs": [],
   "source": [
    "for x in range(0, 10):\n",
    "    test.add((x, random.choice(['kevy', 'isa'])))"
   ]
  },
  {
   "cell_type": "code",
   "execution_count": 17,
   "metadata": {},
   "outputs": [
    {
     "data": {
      "text/plain": [
       "{(0, 'kevy'),\n",
       " (1, 'kevy'),\n",
       " (2, 'isa'),\n",
       " (3, 'isa'),\n",
       " (4, 'isa'),\n",
       " (5, 'isa'),\n",
       " (6, 'isa'),\n",
       " (7, 'kevy'),\n",
       " (8, 'kevy'),\n",
       " (9, 'isa')}"
      ]
     },
     "execution_count": 17,
     "metadata": {},
     "output_type": "execute_result"
    }
   ],
   "source": [
    "test"
   ]
  },
  {
   "cell_type": "code",
   "execution_count": 18,
   "metadata": {},
   "outputs": [
    {
     "name": "stdout",
     "output_type": "stream",
     "text": [
      "6 isa\n",
      "1 kevy\n",
      "9 isa\n",
      "4 isa\n",
      "0 kevy\n",
      "2 isa\n",
      "7 kevy\n",
      "3 isa\n",
      "8 kevy\n",
      "5 isa\n"
     ]
    }
   ],
   "source": [
    "for x,y in test:\n",
    "    print(x,y)"
   ]
  }
 ],
 "metadata": {
  "kernelspec": {
   "display_name": "Python 3",
   "language": "python",
   "name": "python3"
  },
  "language_info": {
   "codemirror_mode": {
    "name": "ipython",
    "version": 3
   },
   "file_extension": ".py",
   "mimetype": "text/x-python",
   "name": "python",
   "nbconvert_exporter": "python",
   "pygments_lexer": "ipython3",
   "version": "3.8.10"
  }
 },
 "nbformat": 4,
 "nbformat_minor": 2
}
