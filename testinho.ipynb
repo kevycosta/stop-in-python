{
 "cells": [
  {
   "cell_type": "code",
   "execution_count": null,
   "metadata": {},
   "outputs": [],
   "source": [
    "        nltk.download('floresta')\n",
    "        portuguese_words = nltk.corpus.floresta.words()\n",
    "        random_words = random.sample(portuguese_words, 100)\n",
    "\n",
    "        temp_question_array = []\n",
    "        for item in questions_array:\n",
    "            item['random_answer'] = random.choice(random_words)\n",
    "            temp_question_array.append(item)"
   ]
  }
 ],
 "metadata": {
  "language_info": {
   "name": "python"
  }
 },
 "nbformat": 4,
 "nbformat_minor": 2
}
